{
 "cells": [
  {
   "cell_type": "code",
   "execution_count": 19,
   "id": "fd907aae-b828-44b1-8457-62f6e2930fc2",
   "metadata": {},
   "outputs": [
    {
     "name": "stdout",
     "output_type": "stream",
     "text": [
      "<class 'bool'>\n",
      "<class 'str'>\n"
     ]
    }
   ],
   "source": [
    "is_tested = True\n",
    "print(type(is_tested)) #변수가 어떤 데이터 타입인지를 알려주는 함수\n",
    "\n",
    "a = 3\n",
    "a = 3.14\n",
    "a = \"3.14\"\n",
    "print(type(a))"
   ]
  },
  {
   "cell_type": "code",
   "execution_count": 20,
   "id": "a1a528bc-75b8-445b-98a4-47c510d63b42",
   "metadata": {},
   "outputs": [
    {
     "data": {
      "text/plain": [
       "False"
      ]
     },
     "execution_count": 20,
     "metadata": {},
     "output_type": "execute_result"
    }
   ],
   "source": [
    "chr = 'a'\n",
    "a = 97\n",
    "chr == a"
   ]
  },
  {
   "cell_type": "code",
   "execution_count": 21,
   "id": "fb2edf0e-8612-4d38-819f-e8a69771bc1b",
   "metadata": {},
   "outputs": [
    {
     "name": "stdout",
     "output_type": "stream",
     "text": [
      "말티푸 맞아요.\n",
      "True\n"
     ]
    }
   ],
   "source": [
    "\"\"\"\n",
    "conditional statements\n",
    "\"\"\"\n",
    "\n",
    "puppy = \"maltepoo\"\n",
    "age = 1\n",
    "is_yes = False\n",
    "\n",
    "\n",
    "if puppy == \"maltese\" : \n",
    "    is_yes = True\n",
    "    print(\"말티지 맞아요.\")\n",
    "    if age < 3:\n",
    "        print(\"말티지 새끼에요.\")\n",
    "elif puppy == \"poodle\":\n",
    "    is_yes = True\n",
    "    print(\"푸들 맞아요.\")\n",
    "else:\n",
    "    is_yes = True\n",
    "    print(\"말티푸 맞아요.\")\n",
    "    \n",
    "print(is_yes)"
   ]
  },
  {
   "cell_type": "code",
   "execution_count": 22,
   "id": "714bd2ac-91aa-491b-9e24-e39cdd059d52",
   "metadata": {},
   "outputs": [
    {
     "name": "stdout",
     "output_type": "stream",
     "text": [
      "[Error]\n",
      "continue...\n"
     ]
    }
   ],
   "source": [
    "\"Exception Handling\"\n",
    "\n",
    "x = 1\n",
    "\n",
    "try:\n",
    "    print(y)\n",
    "    \n",
    "    print(x)\n",
    "except:\n",
    "    print('[Error]')\n",
    "    \n",
    "print(\"continue...\")"
   ]
  },
  {
   "cell_type": "code",
   "execution_count": null,
   "id": "495729a2-c994-46dd-9eb4-cb03651fa3ac",
   "metadata": {},
   "outputs": [],
   "source": []
  },
  {
   "cell_type": "code",
   "execution_count": null,
   "id": "659b0e85-51c8-4a82-ad48-449eaeafb868",
   "metadata": {},
   "outputs": [],
   "source": []
  }
 ],
 "metadata": {
  "kernelspec": {
   "display_name": "Python 3",
   "language": "python",
   "name": "python3"
  },
  "language_info": {
   "codemirror_mode": {
    "name": "ipython",
    "version": 3
   },
   "file_extension": ".py",
   "mimetype": "text/x-python",
   "name": "python",
   "nbconvert_exporter": "python",
   "pygments_lexer": "ipython3",
   "version": "3.8.8"
  }
 },
 "nbformat": 4,
 "nbformat_minor": 5
}
