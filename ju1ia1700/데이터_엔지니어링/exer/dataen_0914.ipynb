{
 "cells": [
  {
   "cell_type": "code",
   "execution_count": 6,
   "id": "dfe40fc5-5db8-4cdb-ad0f-4e581077940e",
   "metadata": {},
   "outputs": [
    {
     "name": "stdout",
     "output_type": "stream",
     "text": [
      "Hello World!\n",
      "100\n",
      "3.14\n",
      "My name isSua Park\n"
     ]
    }
   ],
   "source": [
    "\"\"\"\n",
    "print() function\n",
    "\"\"\"\n",
    "\n",
    "print(\"Hello World!\")\n",
    "print(100)\n",
    "pi = 3.14\n",
    "print(pi)\n",
    "\n",
    "intro = \"My name is\"\n",
    "name = \"Sua Park\"\n",
    "print(intro+name)\n"
   ]
  },
  {
   "cell_type": "code",
   "execution_count": 7,
   "id": "30fa62f4-760c-49f5-a9dc-a4456662dd73",
   "metadata": {},
   "outputs": [],
   "source": [
    "\"\"\"\n",
    "Variables\n",
    "\"\"\"\n",
    "user_name = \"Sua Park\"\n",
    "user_id = 201825033\n",
    "user_email=\"julia1700@hs.ac.kr\"\n",
    "is_student = True"
   ]
  },
  {
   "cell_type": "code",
   "execution_count": 8,
   "id": "2dba02d9-ead8-4637-abd2-dd3a008dcd74",
   "metadata": {},
   "outputs": [],
   "source": [
    "# 본인을 표현할 수 있는 세가지 이상의 정보를 변수로 정의하시오. - 실습1\n",
    "stu_name = \"박수아\"\n",
    "stu_num = 201825033\n",
    "fav_color = \"Blue\""
   ]
  },
  {
   "cell_type": "code",
   "execution_count": 9,
   "id": "06641ca4-3619-4896-86d0-f2dbe3c4944b",
   "metadata": {},
   "outputs": [],
   "source": [
    "\"\"\"\n",
    "Data Types: Integers\n",
    "\"\"\"\n",
    "\n",
    "chairs = 4\n",
    "tables = 1\n",
    "broken_chairs = -2\n",
    "sofas = 0"
   ]
  },
  {
   "cell_type": "code",
   "execution_count": 10,
   "id": "42ca72fd-902a-43a3-b70d-baacfb777cc1",
   "metadata": {},
   "outputs": [],
   "source": [
    "#본인의 집에 있는 사물의 개수를 정수 유형의 변수로 정의하시오(세가지 이상) - 실습2\n",
    "chairs = 2\n",
    "tables = 2\n",
    "computer = 1 \n",
    "air_cleaner = 1\n",
    "Earphones = 2"
   ]
  },
  {
   "cell_type": "code",
   "execution_count": 11,
   "id": "35dfa86b-c7cb-40be-9da1-ee0d6b3fd2cf",
   "metadata": {},
   "outputs": [],
   "source": [
    "\"\"\"\n",
    "Data Types: Real Numbers\n",
    "\"\"\"\n",
    "\n",
    "PI = 3.14\n",
    "kospi_index = 3125.76\n",
    "krw_usd_exchange = 1176.83"
   ]
  },
  {
   "cell_type": "code",
   "execution_count": 12,
   "id": "1b55d04c-f237-45d4-ae53-07022b83ce73",
   "metadata": {},
   "outputs": [],
   "source": [
    "#본인이 알고 있는 실수를 변수로 정의하시오(3가지 이상) - 실습3\n",
    "krw_jp_exchange = 1063.56\n",
    "Height = 173.2\n",
    "One_apple_w = 0.31 #kg"
   ]
  },
  {
   "cell_type": "code",
   "execution_count": 13,
   "id": "2008cce7-3de2-4d93-af25-9a1392c7e717",
   "metadata": {},
   "outputs": [
    {
     "name": "stdout",
     "output_type": "stream",
     "text": [
      "Chance favors the prepared mind., Elder scrolls, Sonny\n"
     ]
    }
   ],
   "source": [
    "\"\"\"\n",
    "Data Types: Strings\n",
    "\"\"\"\n",
    "\n",
    "favorite_motte = \"Chance favors the prepared mind.\"\n",
    "favorite_game = \"Elder scrolls\"\n",
    "favorite_athlete = 'Sonny'\n",
    "\n",
    "favorite = favorite_motte + \", \"+ favorite_game+ \", \" +favorite_athlete\n",
    "print(favorite)"
   ]
  },
  {
   "cell_type": "code",
   "execution_count": 14,
   "id": "043b7166-7dba-4560-8221-017526b3b876",
   "metadata": {},
   "outputs": [
    {
     "name": "stdout",
     "output_type": "stream",
     "text": [
      "lilac, Avengers, The Midnight Library\n"
     ]
    }
   ],
   "source": [
    "#본인이 좋아하는 것들을 문자열 변수로 정의하시오.(3가지 이상) - 실습4\n",
    "favorite_music = \"lilac\"\n",
    "favorite_movie = 'Avengers'\n",
    "favorite_book = \"The Midnight Library\"\n",
    "\n",
    "favorite = favorite_music+ \", \" + favorite_movie+ \", \" +favorite_book\n",
    "print(favorite)"
   ]
  },
  {
   "cell_type": "code",
   "execution_count": 15,
   "id": "62fb1178-7e9e-4673-b993-1fef2df51d62",
   "metadata": {},
   "outputs": [
    {
     "name": "stdout",
     "output_type": "stream",
     "text": [
      "128.0\n"
     ]
    }
   ],
   "source": [
    "\"\"\"\n",
    "Plus-Equals Operations\n",
    "\"\"\"\n",
    "\n",
    "a = 8\n",
    "a += 2\n",
    "a -= 2\n",
    "a *= 2\n",
    "a **= 2\n",
    "a /= 2\n",
    "\n",
    "print(a)"
   ]
  },
  {
   "cell_type": "code",
   "execution_count": 16,
   "id": "cd6c4006-bc41-4d37-8186-e3fc2f2a1876",
   "metadata": {},
   "outputs": [
    {
     "ename": "NameError",
     "evalue": "name 'my_school' is not defined",
     "output_type": "error",
     "traceback": [
      "\u001b[1;31m---------------------------------------------------------------------------\u001b[0m",
      "\u001b[1;31mNameError\u001b[0m                                 Traceback (most recent call last)",
      "\u001b[1;32m<ipython-input-16-9c88f82cf54f>\u001b[0m in \u001b[0;36m<module>\u001b[1;34m\u001b[0m\n\u001b[0;32m      3\u001b[0m \"\"\"\n\u001b[0;32m      4\u001b[0m \u001b[1;31m#Name Errors\u001b[0m\u001b[1;33m\u001b[0m\u001b[1;33m\u001b[0m\u001b[1;33m\u001b[0m\u001b[0m\n\u001b[1;32m----> 5\u001b[1;33m \u001b[0mprint\u001b[0m\u001b[1;33m(\u001b[0m\u001b[0mmy_school\u001b[0m\u001b[1;33m)\u001b[0m\u001b[1;33m\u001b[0m\u001b[1;33m\u001b[0m\u001b[0m\n\u001b[0m\u001b[0;32m      6\u001b[0m \u001b[0mmy_school\u001b[0m \u001b[1;33m=\u001b[0m \u001b[1;34m\"HSU\"\u001b[0m\u001b[1;33m\u001b[0m\u001b[1;33m\u001b[0m\u001b[0m\n\u001b[0;32m      7\u001b[0m \u001b[0mprint\u001b[0m\u001b[1;33m(\u001b[0m\u001b[0mmy_university\u001b[0m\u001b[1;33m)\u001b[0m\u001b[1;33m\u001b[0m\u001b[1;33m\u001b[0m\u001b[0m\n",
      "\u001b[1;31mNameError\u001b[0m: name 'my_school' is not defined"
     ]
    }
   ],
   "source": [
    "\"\"\"\n",
    "Errors\n",
    "\"\"\"\n",
    "#Name Errors\n",
    "print(my_school)\n",
    "my_school = \"HSU\"\n",
    "print(my_university)"
   ]
  },
  {
   "cell_type": "code",
   "execution_count": 17,
   "id": "865e1ada-bf3c-4b0b-82ad-7ee0adcc6daf",
   "metadata": {},
   "outputs": [],
   "source": [
    "x=1"
   ]
  },
  {
   "cell_type": "markdown",
   "id": "53af110a-21a6-4ac1-bc63-44b7ef53448f",
   "metadata": {},
   "source": [
    "# 레벨 1\n",
    "## 레벨 2\n",
    "다음의 코드는 무엇을 수행합니다."
   ]
  },
  {
   "cell_type": "code",
   "execution_count": 18,
   "id": "f966f506-0372-4ad6-8d99-de3c9c5fcb08",
   "metadata": {},
   "outputs": [],
   "source": [
    "x = 1"
   ]
  },
  {
   "cell_type": "code",
   "execution_count": null,
   "id": "4d0bfcb9-22fb-4ac5-8610-03941c32e323",
   "metadata": {},
   "outputs": [],
   "source": []
  }
 ],
 "metadata": {
  "kernelspec": {
   "display_name": "Python 3",
   "language": "python",
   "name": "python3"
  },
  "language_info": {
   "codemirror_mode": {
    "name": "ipython",
    "version": 3
   },
   "file_extension": ".py",
   "mimetype": "text/x-python",
   "name": "python",
   "nbconvert_exporter": "python",
   "pygments_lexer": "ipython3",
   "version": "3.8.8"
  }
 },
 "nbformat": 4,
 "nbformat_minor": 5
}
