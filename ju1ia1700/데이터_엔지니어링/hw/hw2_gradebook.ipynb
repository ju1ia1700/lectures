{
 "cells": [
  {
   "cell_type": "code",
   "execution_count": 92,
   "id": "0dd11625-cc07-46bf-9215-64f3964ee16d",
   "metadata": {},
   "outputs": [],
   "source": [
    "# 1. 과목 목록 만들기 : \"physics\", \"calculus\", \"poetry\", \"history\""
   ]
  },
  {
   "cell_type": "code",
   "execution_count": 93,
   "id": "9c512430-6c8a-46ce-8bdc-4673993db743",
   "metadata": {},
   "outputs": [
    {
     "data": {
      "text/plain": [
       "['physics', 'calculus', 'poetry', 'history']"
      ]
     },
     "execution_count": 93,
     "metadata": {},
     "output_type": "execute_result"
    }
   ],
   "source": [
    "subjects = [\"physics\", \"calculus\", \"poetry\", \"history\"]\n",
    "subjects    # 결과 확인"
   ]
  },
  {
   "cell_type": "code",
   "execution_count": 94,
   "id": "afc7164d-90e2-4c68-a9ac-54ad5f7cc0c4",
   "metadata": {},
   "outputs": [],
   "source": [
    "# 2. 점수 목록 만들기 : 98,97,85,88"
   ]
  },
  {
   "cell_type": "code",
   "execution_count": 95,
   "id": "fed34657-5734-456d-b9d4-f87654000eda",
   "metadata": {},
   "outputs": [
    {
     "data": {
      "text/plain": [
       "[98, 97, 85, 88]"
      ]
     },
     "execution_count": 95,
     "metadata": {},
     "output_type": "execute_result"
    }
   ],
   "source": [
    "grades = [98,97,85,88]\n",
    "grades              # 결과 확인"
   ]
  },
  {
   "cell_type": "code",
   "execution_count": 96,
   "id": "3ca89182-af03-4b7b-bb2a-13f80fd2a8e5",
   "metadata": {},
   "outputs": [],
   "source": [
    "# 3~4. 2차원 리스트로 결합하기(메소드 없이 수동으로) + 출력하기"
   ]
  },
  {
   "cell_type": "code",
   "execution_count": 97,
   "id": "4d74eb7f-7973-47ed-9b61-7567b5a0937e",
   "metadata": {},
   "outputs": [
    {
     "name": "stdout",
     "output_type": "stream",
     "text": [
      "[['physics', 98], ['calculus', 97], ['poetry', 85], ['history', 88]]\n"
     ]
    }
   ],
   "source": [
    "gradebook = [['physics', 98], ['calculus', 97], ['poetry', 85], ['history', 88]]\n",
    "print(gradebook)    # gradebook 출력"
   ]
  },
  {
   "cell_type": "code",
   "execution_count": 98,
   "id": "839485b7-e295-4b80-8cb4-634d886f5fac",
   "metadata": {},
   "outputs": [],
   "source": [
    "# 5~6. 과목 추가 하기 + 예상출력과 같은지 확인하기"
   ]
  },
  {
   "cell_type": "code",
   "execution_count": 99,
   "id": "d8d0e624-7bcb-4377-9afc-711d44b1495e",
   "metadata": {},
   "outputs": [
    {
     "name": "stdout",
     "output_type": "stream",
     "text": [
      "[['physics', 98], ['calculus', 97], ['poetry', 85], ['history', 88], ['computer science', 100], ['visual arts', 93]]\n"
     ]
    }
   ],
   "source": [
    "gradebook.append([\"computer science\", 100])\n",
    "gradebook.append([\"visual arts\", 93])\n",
    "print(gradebook)        #결과 확인하기"
   ]
  },
  {
   "cell_type": "code",
   "execution_count": 100,
   "id": "f0d541c5-3d93-45a2-8bcf-286db2d5ffec",
   "metadata": {},
   "outputs": [],
   "source": [
    "# 7. visual arts 점수에 5점 더하기(최종 98점)"
   ]
  },
  {
   "cell_type": "code",
   "execution_count": 101,
   "id": "c3ae8d78-b6be-4a7c-85b6-2f9b1799191d",
   "metadata": {},
   "outputs": [],
   "source": [
    "gradebook[5][1] += 5"
   ]
  },
  {
   "cell_type": "code",
   "execution_count": 102,
   "id": "ae435267-09cb-41c8-9653-eae478cdcb22",
   "metadata": {},
   "outputs": [],
   "source": [
    "# 8. poetry 평가 방식을 p/np로 변경(성적만 삭제)"
   ]
  },
  {
   "cell_type": "code",
   "execution_count": 103,
   "id": "ee717b11-d62f-4f1e-b9a2-3b9ae6aa89af",
   "metadata": {},
   "outputs": [],
   "source": [
    "gradebook[2].remove(85)"
   ]
  },
  {
   "cell_type": "code",
   "execution_count": 104,
   "id": "855391c4-701a-414c-b809-dd0b6618d9c4",
   "metadata": {},
   "outputs": [],
   "source": [
    "# 9. poetry 평가 방식을 수치에서 p/np로 변경(pass 추가)"
   ]
  },
  {
   "cell_type": "code",
   "execution_count": 105,
   "id": "acd5e607-cd7f-4843-b75e-be7e89428439",
   "metadata": {},
   "outputs": [],
   "source": [
    "gradebook[2].append(\"Pass\")"
   ]
  },
  {
   "cell_type": "code",
   "execution_count": 106,
   "id": "b2840b44-b6ac-4da5-b5f2-abe82cff7e28",
   "metadata": {},
   "outputs": [
    {
     "name": "stdout",
     "output_type": "stream",
     "text": [
      "[['physics', 98], ['calculus', 97], ['poetry', 'Pass'], ['history', 88], ['computer science', 100], ['visual arts', 98]]\n"
     ]
    }
   ],
   "source": [
    "#예상 출력확인하기\n",
    "print(gradebook)"
   ]
  },
  {
   "cell_type": "code",
   "execution_count": 107,
   "id": "a1fc5f13-cdbc-4a07-bcad-035c97fb5ef2",
   "metadata": {},
   "outputs": [],
   "source": [
    "# 10. 지난학기 성적 추가하여 한 학년의 성적 만들기"
   ]
  },
  {
   "cell_type": "code",
   "execution_count": 108,
   "id": "20ff4e06-b62e-48d3-b909-4eae6e6281c8",
   "metadata": {},
   "outputs": [
    {
     "name": "stdout",
     "output_type": "stream",
     "text": [
      "[['politics', 80], ['latin', 96], ['dance', 97], ['architecture', 65], ['physics', 98], ['calculus', 97], ['poetry', 'Pass'], ['history', 88], ['computer science', 100], ['visual arts', 98]]\n"
     ]
    }
   ],
   "source": [
    "last_semester_gradebook = [[\"politics\", 80], [\"latin\", 96], [\"dance\", 97], [\"architecture\", 65]]\n",
    "full_gradebook = last_semester_gradebook + gradebook\n",
    "print(full_gradebook)    #출력하기"
   ]
  },
  {
   "cell_type": "code",
   "execution_count": null,
   "id": "d3f2e6d2-14f2-4b3d-bb20-9b860ac454ec",
   "metadata": {},
   "outputs": [],
   "source": []
  }
 ],
 "metadata": {
  "kernelspec": {
   "display_name": "Python 3",
   "language": "python",
   "name": "python3"
  },
  "language_info": {
   "codemirror_mode": {
    "name": "ipython",
    "version": 3
   },
   "file_extension": ".py",
   "mimetype": "text/x-python",
   "name": "python",
   "nbconvert_exporter": "python",
   "pygments_lexer": "ipython3",
   "version": "3.8.8"
  }
 },
 "nbformat": 4,
 "nbformat_minor": 5
}
