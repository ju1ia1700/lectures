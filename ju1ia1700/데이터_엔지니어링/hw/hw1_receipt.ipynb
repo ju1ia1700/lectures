#lovely_loveseat 설명 및 가격
lovely_loveseat_description = "Lovely Loveseat. Tufted polyester blend on wood. 32 inches high x 40 inches wide x 30 inches deep. Red or white."
lovely_loveseat_price = 254.00


#stylish_settee 설명 및 가격
stylish_settee_description = 'Stylish Settee. Faux leather on birch. 29.50 inches high x 54.75 inches wide x 28 inches deep. Black.'
stylish_settee_price = 180.50


#luxurious_lamp 설명 및 가격
luxurious_lamp_description = "Luxurious Lamp. Glass and iron. 36 inches tall. Brown with cream shade."
luxurious_lamp_price = 52.15


# 판매세
sales_tax = .088


#손님 구매 목록
customer_one_total = 0           #계산서
customer_one_itemization = ""    #장바구니

#lovely_loveseat 구매
customer_one_total = lovely_loveseat_price
customer_one_itemization = lovely_loveseat_description

#luxurious_lamp 구매
customer_one_total += luxurious_lamp_price
customer_one_itemization += luxurious_lamp_description


#판매세 추가
customer_one_tax = customer_one_total * sales_tax
customer_one_total += customer_one_tax


#총 구매 내역및 금액
print("Customer One Items:")
print(customer_one_itemization)
print("Customer One Total:")
print(customer_one_total)


    Customer One Items:
    Lovely Loveseat. Tufted polyester blend on wood. 32 inches high x 40 inches wide x 30 inches deep. Red or white.Luxurious Lamp. Glass and iron. 36 inches tall. Brown with cream shade.
    Customer One Total:
    333.09119999999996
    
