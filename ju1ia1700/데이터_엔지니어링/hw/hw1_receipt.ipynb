{
 "cells": [
  {
   "cell_type": "code",
   "execution_count": null,
   "id": "df7079cd-1aff-42b4-b057-f87f26a2b7f8",
   "metadata": {},
   "outputs": [],
   "source": [
    "#lovely_loveseat 설명 및 가격"
   ]
  },
  {
   "cell_type": "code",
   "execution_count": 33,
   "id": "4d9d91d8-af9a-4b0f-a15b-69cde092d094",
   "metadata": {},
   "outputs": [],
   "source": [
    "lovely_loveseat_description = \"Lovely Loveseat. Tufted polyester blend on wood. 32 inches high x 40 inches wide x 30 inches deep. Red or white.\"\n",
    "lovely_loveseat_price = 254.00"
   ]
  },
  {
   "cell_type": "code",
   "execution_count": null,
   "id": "fc1c099c-e64c-47a8-b76c-6a0eedf9dcf6",
   "metadata": {},
   "outputs": [],
   "source": [
    "#stylish_settee 설명 및 가격"
   ]
  },
  {
   "cell_type": "code",
   "execution_count": 34,
   "id": "5a328c95-4e6f-4e0a-8f38-95acfcb3eb0d",
   "metadata": {},
   "outputs": [],
   "source": [
    "stylish_settee_description = 'Stylish Settee. Faux leather on birch. 29.50 inches high x 54.75 inches wide x 28 inches deep. Black.'\n",
    "stylish_settee_price = 180.50"
   ]
  },
  {
   "cell_type": "code",
   "execution_count": null,
   "id": "057e2786-57c0-48da-ba35-4e5f5e04cc3c",
   "metadata": {},
   "outputs": [],
   "source": [
    "#luxurious_lamp 설명 및 가격"
   ]
  },
  {
   "cell_type": "code",
   "execution_count": 35,
   "id": "f64c2f1d-5a55-42fa-a551-22342157ddc7",
   "metadata": {},
   "outputs": [],
   "source": [
    "luxurious_lamp_description = \"Luxurious Lamp. Glass and iron. 36 inches tall. Brown with cream shade.\"\n",
    "luxurious_lamp_price = 52.15"
   ]
  },
  {
   "cell_type": "code",
   "execution_count": null,
   "id": "950e0578-7258-4e85-a321-bad285bbbd70",
   "metadata": {},
   "outputs": [],
   "source": [
    "# 판매세"
   ]
  },
  {
   "cell_type": "code",
   "execution_count": 36,
   "id": "845efba7-090c-41ab-9cc2-51357b3f3262",
   "metadata": {},
   "outputs": [],
   "source": [
    "sales_tax = .088"
   ]
  },
  {
   "cell_type": "code",
   "execution_count": null,
   "id": "9db9e10b-c43e-45da-a60a-f138d132daf9",
   "metadata": {},
   "outputs": [],
   "source": [
    "#손님 구매 목록"
   ]
  },
  {
   "cell_type": "code",
   "execution_count": 37,
   "id": "ecbadfd8-4e3c-49d3-ae0a-b53e961485f0",
   "metadata": {},
   "outputs": [],
   "source": [
    "customer_one_total = 0           #계산서\n",
    "customer_one_itemization = \"\"    #장바구니"
   ]
  },
  {
   "cell_type": "code",
   "execution_count": null,
   "id": "b9618c44-8634-4b0e-acfa-5e04a3031949",
   "metadata": {},
   "outputs": [],
   "source": [
    "#lovely_loveseat 구매"
   ]
  },
  {
   "cell_type": "code",
   "execution_count": 38,
   "id": "46f6c5bb-089b-4477-b15e-2de60a0b03f2",
   "metadata": {},
   "outputs": [],
   "source": [
    "customer_one_total = lovely_loveseat_price\n",
    "customer_one_itemization = lovely_loveseat_description"
   ]
  },
  {
   "cell_type": "code",
   "execution_count": null,
   "id": "7986fdde-7079-4c0e-ad2f-0b638141e83a",
   "metadata": {},
   "outputs": [],
   "source": [
    "#luxurious_lamp 구매"
   ]
  },
  {
   "cell_type": "code",
   "execution_count": 39,
   "id": "8e7e4484-2e51-449e-89e1-735fa4193b5f",
   "metadata": {},
   "outputs": [],
   "source": [
    "customer_one_total += luxurious_lamp_price\n",
    "customer_one_itemization += luxurious_lamp_description"
   ]
  },
  {
   "cell_type": "code",
   "execution_count": null,
   "id": "a460e265-3196-40f7-98f0-a2cac5eb9465",
   "metadata": {},
   "outputs": [],
   "source": [
    "#판매세 추가"
   ]
  },
  {
   "cell_type": "code",
   "execution_count": 40,
   "id": "ceb11c2a-a7ca-49fb-8764-5ac9f1cd42c0",
   "metadata": {},
   "outputs": [],
   "source": [
    "customer_one_tax = customer_one_total * sales_tax"
   ]
  },
  {
   "cell_type": "code",
   "execution_count": 41,
   "id": "7a341d76-d81c-4dd0-91c3-e0f3fec72ed9",
   "metadata": {},
   "outputs": [],
   "source": [
    "customer_one_total += customer_one_tax"
   ]
  },
  {
   "cell_type": "code",
   "execution_count": null,
   "id": "d700c1c4-14e9-4138-90c3-6437dbbef89e",
   "metadata": {},
   "outputs": [],
   "source": [
    "#총 구매 내역및 금액"
   ]
  },
  {
   "cell_type": "code",
   "execution_count": 42,
   "id": "7aca4bbd-034b-4d35-9126-db6c3ab7fc3e",
   "metadata": {},
   "outputs": [
    {
     "name": "stdout",
     "output_type": "stream",
     "text": [
      "Customer One Items:\n",
      "Lovely Loveseat. Tufted polyester blend on wood. 32 inches high x 40 inches wide x 30 inches deep. Red or white.Luxurious Lamp. Glass and iron. 36 inches tall. Brown with cream shade.\n",
      "Customer One Total:\n",
      "333.09119999999996\n"
     ]
    }
   ],
   "source": [
    "print(\"Customer One Items:\")\n",
    "print(customer_one_itemization)\n",
    "print(\"Customer One Total:\")\n",
    "print(customer_one_total)"
   ]
  }
 ],
 "metadata": {
  "kernelspec": {
   "display_name": "Python 3",
   "language": "python",
   "name": "python3"
  },
  "language_info": {
   "codemirror_mode": {
    "name": "ipython",
    "version": 3
   },
   "file_extension": ".py",
   "mimetype": "text/x-python",
   "name": "python",
   "nbconvert_exporter": "python",
   "pygments_lexer": "ipython3",
   "version": "3.8.8"
  }
 },
 "nbformat": 4,
 "nbformat_minor": 5
}
