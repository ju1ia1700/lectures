{
 "cells": [
  {
   "cell_type": "code",
   "execution_count": 89,
   "id": "ca29cc7f-2f0d-4305-9489-1f31777c4b17",
   "metadata": {},
   "outputs": [],
   "source": [
    "#hairstyles, prices, last_week 목록 만들기"
   ]
  },
  {
   "cell_type": "code",
   "execution_count": 90,
   "id": "9440e8c2-ea52-445f-a5b8-7343aea3a4f6",
   "metadata": {},
   "outputs": [],
   "source": [
    "hairstyles = [\"bouffant\", \"pixie\", \"dreadlocks\", \"crew\", \"bowl\", \"bob\", \"mohawk\", \"flattop\"]\n",
    "prices = [30, 25, 40, 20, 20, 35, 50, 35]\n",
    "last_week = [2, 3, 5, 8, 4, 4, 6, 2]"
   ]
  },
  {
   "cell_type": "code",
   "execution_count": 91,
   "id": "9474eeba-5452-4bed-b434-a65fe87acc73",
   "metadata": {},
   "outputs": [],
   "source": [
    "#1. total_price 0으로 초기화"
   ]
  },
  {
   "cell_type": "code",
   "execution_count": 92,
   "id": "836a8504-1562-458d-b598-757fec2a4dfe",
   "metadata": {},
   "outputs": [],
   "source": [
    "total_price = 0"
   ]
  },
  {
   "cell_type": "code",
   "execution_count": 93,
   "id": "cd4107a7-481f-4377-823a-3a044402fcd2",
   "metadata": {},
   "outputs": [],
   "source": [
    "#2. prices의 총합(for 반복)"
   ]
  },
  {
   "cell_type": "code",
   "execution_count": 94,
   "id": "a5b6b71b-6cac-4758-85d7-74822d50bd2b",
   "metadata": {},
   "outputs": [
    {
     "name": "stdout",
     "output_type": "stream",
     "text": [
      "255\n"
     ]
    }
   ],
   "source": [
    "for i in prices:\n",
    "    total_price += i\n",
    "    \n",
    "print(total_price)"
   ]
  },
  {
   "cell_type": "code",
   "execution_count": 95,
   "id": "36e9eeee-4ed7-43bb-922c-0013f9a06c4b",
   "metadata": {},
   "outputs": [],
   "source": [
    "#3. 평균 가격 구하기(for 반복) + 4. 평균 가격 출력"
   ]
  },
  {
   "cell_type": "code",
   "execution_count": 96,
   "id": "e68d0a90-3654-4511-8925-9582b98770d2",
   "metadata": {},
   "outputs": [
    {
     "name": "stdout",
     "output_type": "stream",
     "text": [
      "Average price is 31.875\n"
     ]
    }
   ],
   "source": [
    "average_price = total_price / len(prices)\n",
    "print(\"Average price is\", average_price)"
   ]
  },
  {
   "cell_type": "code",
   "execution_count": 97,
   "id": "dafbce5d-8600-441b-bf2a-f73e89937c14",
   "metadata": {},
   "outputs": [],
   "source": [
    "# 5. 모든 값을 -5한 새로운 가격 만들기 + 6. 새로운 가격 출력"
   ]
  },
  {
   "cell_type": "code",
   "execution_count": 98,
   "id": "ab160458-12ef-44de-98a6-cea1826402b4",
   "metadata": {},
   "outputs": [
    {
     "name": "stdout",
     "output_type": "stream",
     "text": [
      "[25, 20, 35, 15, 15, 30, 45, 30]\n"
     ]
    }
   ],
   "source": [
    "new_prices = [i-5 for i in prices]\n",
    "\n",
    "print(new_prices)"
   ]
  },
  {
   "cell_type": "code",
   "execution_count": 99,
   "id": "b7cb15f5-8133-43ed-b482-0b19111dfaa4",
   "metadata": {},
   "outputs": [],
   "source": [
    "#7. total_revenue 0으로 초기화"
   ]
  },
  {
   "cell_type": "code",
   "execution_count": 100,
   "id": "adf6588d-9ab2-435e-9847-2c5ed796cbc7",
   "metadata": {},
   "outputs": [],
   "source": [
    "total_revenue = 0"
   ]
  },
  {
   "cell_type": "code",
   "execution_count": 101,
   "id": "b3bb4c51-2b04-4e33-8a2d-e7f3227abfeb",
   "metadata": {},
   "outputs": [],
   "source": [
    "#8. for문 만들기 + 9. 총 수익 계산"
   ]
  },
  {
   "cell_type": "code",
   "execution_count": 102,
   "id": "6cd84351-4960-4116-a204-969acf38dfc9",
   "metadata": {},
   "outputs": [],
   "source": [
    "for i in range(len(hairstyles)):\n",
    "    total_revenue = total_revenue + prices[i] * last_week[i]"
   ]
  },
  {
   "cell_type": "code",
   "execution_count": 103,
   "id": "b187cb3f-baa9-4316-b5e1-329ad8bc1f5c",
   "metadata": {},
   "outputs": [],
   "source": [
    "#10. 총 수익 출력"
   ]
  },
  {
   "cell_type": "code",
   "execution_count": 104,
   "id": "fa0cfe3d-ee6b-4390-be16-de46267d3d84",
   "metadata": {},
   "outputs": [
    {
     "name": "stdout",
     "output_type": "stream",
     "text": [
      "Total Revenue:  1085\n"
     ]
    }
   ],
   "source": [
    "print(\"Total Revenue: \", total_revenue)"
   ]
  },
  {
   "cell_type": "code",
   "execution_count": 105,
   "id": "35cd2882-7c4b-49a6-9664-f6d980290f19",
   "metadata": {},
   "outputs": [],
   "source": [
    "#11. 일일 평균 수익 구하기 (총 수익 / 7)"
   ]
  },
  {
   "cell_type": "code",
   "execution_count": 106,
   "id": "8cecccd4-ce6f-435b-9a53-21c7fe3b2df5",
   "metadata": {},
   "outputs": [
    {
     "name": "stdout",
     "output_type": "stream",
     "text": [
      "Average daily revenue is 155.0\n"
     ]
    }
   ],
   "source": [
    "average_daily_revenue = total_revenue / 7\n",
    "print(\"Average daily revenue is\", average_daily_revenue)"
   ]
  },
  {
   "cell_type": "code",
   "execution_count": 107,
   "id": "67daf31a-cec4-47fc-8332-c29f5c299577",
   "metadata": {},
   "outputs": [],
   "source": [
    "#12. 30미만의 헤어스타일 광고"
   ]
  },
  {
   "cell_type": "code",
   "execution_count": 108,
   "id": "a59b8022-d34a-49c6-959a-b096ef12c8e1",
   "metadata": {},
   "outputs": [],
   "source": [
    "cuts_under_30 = [hairstyles[i] for i in range(len(hairstyles)-1) if new_prices[i] < 30]"
   ]
  },
  {
   "cell_type": "code",
   "execution_count": 109,
   "id": "01577639-1de5-47ed-a415-b49cfa83a420",
   "metadata": {},
   "outputs": [],
   "source": [
    "#13.  출력"
   ]
  },
  {
   "cell_type": "code",
   "execution_count": 110,
   "id": "61a463e6-4fdd-48bd-90aa-f09eb03fc8e0",
   "metadata": {},
   "outputs": [
    {
     "name": "stdout",
     "output_type": "stream",
     "text": [
      "['bouffant', 'pixie', 'crew', 'bowl']\n"
     ]
    }
   ],
   "source": [
    "print(cuts_under_30)"
   ]
  },
  {
   "cell_type": "code",
   "execution_count": null,
   "id": "808f0bb9-f533-42fa-9d3e-9d342dbf3477",
   "metadata": {},
   "outputs": [],
   "source": []
  }
 ],
 "metadata": {
  "kernelspec": {
   "display_name": "Python 3",
   "language": "python",
   "name": "python3"
  },
  "language_info": {
   "codemirror_mode": {
    "name": "ipython",
    "version": 3
   },
   "file_extension": ".py",
   "mimetype": "text/x-python",
   "name": "python",
   "nbconvert_exporter": "python",
   "pygments_lexer": "ipython3",
   "version": "3.8.8"
  }
 },
 "nbformat": 4,
 "nbformat_minor": 5
}
