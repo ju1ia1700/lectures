{
 "cells": [
  {
   "cell_type": "code",
   "execution_count": 27,
   "id": "fe68e0fd-a3a5-42cd-85f5-fa39d806854f",
   "metadata": {},
   "outputs": [],
   "source": [
    "#1. month에 해당되는 이름의 첫번째 글자 리스트"
   ]
  },
  {
   "cell_type": "code",
   "execution_count": 28,
   "id": "dfa04131-f302-4947-99df-35afc4d95f38",
   "metadata": {},
   "outputs": [
    {
     "name": "stdout",
     "output_type": "stream",
     "text": [
      "['쌍', '쇠', '복', '돌', '팽', '육', '쌍', '개', '칠', '갑', '삼', '방']\n"
     ]
    }
   ],
   "source": [
    "month_lst = ['쌍', '쇠', '복', '돌', '팽', '육', '쌍', '개', '칠', '갑', '삼', '방']\n",
    "print(month_lst) #출력 확인"
   ]
  },
  {
   "cell_type": "code",
   "execution_count": 29,
   "id": "e4672b12-1ea0-44d5-bb6d-f7c8f8d306cf",
   "metadata": {},
   "outputs": [],
   "source": [
    "#2.day에 해당되는 이름의 두번째 글자 리스트"
   ]
  },
  {
   "cell_type": "code",
   "execution_count": 30,
   "id": "cc4a4452-bbe7-4d4e-9379-ce9c46f724d5",
   "metadata": {},
   "outputs": [
    {
     "name": "stdout",
     "output_type": "stream",
     "text": [
      "['봉', '구', '욕', '포', '똥', '삼', '식', '석', '놈', '님', '년', '돌', '단', '득', '방', '질', '장', '걸', '래', '룡', '동', '순', '자', '박', '창', '언', '것', '포', '만', '단', '국']\n"
     ]
    }
   ],
   "source": [
    "day_lst = ['봉', '구', '욕', '포', '똥', '삼', '식', '석', '놈', '님', '년', '돌', '단', '득', '방', '질', '장', '걸', '래', '룡', '동', '순', '자', '박', '창', '언', '것', '포', '만', '단', '국']\n",
    "print(day_lst)       #출력 확인"
   ]
  },
  {
   "cell_type": "code",
   "execution_count": 31,
   "id": "96cf64cc-2bf5-430d-9768-e0771e79b744",
   "metadata": {},
   "outputs": [],
   "source": [
    "#3. 나의 조선시대 이름 함수(문자열로 반환)"
   ]
  },
  {
   "cell_type": "code",
   "execution_count": 32,
   "id": "e02072fc-229c-4e13-8764-0c9054437827",
   "metadata": {},
   "outputs": [],
   "source": [
    "def get_my_chosun_name(family_name, month, day):   #함수 선언 및 매개변수\n",
    "    return \"당신의 조선시대 이름은 \"+ family_name + month_lst[month-1] + day_lst[day-1]  + '입니다.'  #문자열 반환\n",
    "                                                                                                    # 만약 1월 1일일 경우 1월과 1일은 month_lst[0]과 day_lst[0]에 들어 있어서 -1을 해준다."
   ]
  },
  {
   "cell_type": "code",
   "execution_count": 33,
   "id": "456dfffe-9652-47de-9714-7d8a9b894832",
   "metadata": {},
   "outputs": [],
   "source": [
    "#4. 함수를 호출하여 조선시대 이름 출력"
   ]
  },
  {
   "cell_type": "code",
   "execution_count": 34,
   "id": "9a0d6dce-413f-4a5a-8c16-7546494285d1",
   "metadata": {},
   "outputs": [
    {
     "data": {
      "text/plain": [
       "'당신의 조선시대 이름은 박갑삼입니다.'"
      ]
     },
     "execution_count": 34,
     "metadata": {},
     "output_type": "execute_result"
    }
   ],
   "source": [
    "get_my_chosun_name('박', 10, 6)"
   ]
  },
  {
   "cell_type": "code",
   "execution_count": null,
   "id": "d24f8ca7-22d4-4f10-a004-e686bee60cd2",
   "metadata": {},
   "outputs": [],
   "source": []
  }
 ],
 "metadata": {
  "kernelspec": {
   "display_name": "Python 3",
   "language": "python",
   "name": "python3"
  },
  "language_info": {
   "codemirror_mode": {
    "name": "ipython",
    "version": 3
   },
   "file_extension": ".py",
   "mimetype": "text/x-python",
   "name": "python",
   "nbconvert_exporter": "python",
   "pygments_lexer": "ipython3",
   "version": "3.8.8"
  }
 },
 "nbformat": 4,
 "nbformat_minor": 5
}
